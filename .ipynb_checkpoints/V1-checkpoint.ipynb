{
 "cells": [
  {
   "cell_type": "code",
   "execution_count": 26,
   "metadata": {},
   "outputs": [],
   "source": [
    "import pandas as pd\n",
    "import matplotlib.pyplot as plt\n",
    "%matplotlib inline"
   ]
  },
  {
   "cell_type": "code",
   "execution_count": 8,
   "metadata": {},
   "outputs": [],
   "source": [
    "ccba = pd.read_csv(\"public_train_x_ccba_full_hashed.csv\")\n",
    "cdtx = pd.read_csv(\"public_train_x_cdtx0001_full_hashed.csv\")\n",
    "custinfo = pd.read_csv(\"public_train_x_custinfo_full_hashed.csv\")\n",
    "dp = pd.read_csv(\"public_train_x_dp_full_hashed.csv\")\n",
    "remit = pd.read_csv(\"public_train_x_remit1_full_hashed.csv\")\n",
    "alert_date = pd.read_csv(\"public_x_alert_date.csv\")\n",
    "y = pd.read_csv(\"train_y_answer.csv\")\n",
    "pred = pd.read_csv(\"預測的案件名單及提交檔案範例.csv\")\n"
   ]
  },
  {
   "cell_type": "code",
   "execution_count": 47,
   "metadata": {},
   "outputs": [
    {
     "data": {
      "text/plain": [
       "<function matplotlib.pyplot.show(close=None, block=None)>"
      ]
     },
     "execution_count": 47,
     "metadata": {},
     "output_type": "execute_result"
    },
    {
     "data": {
      "image/png": "[encoded data removed]",
      "text/plain": [
       "<Figure size 432x288 with 1 Axes>"
      ]
     },
     "metadata": {
      "needs_background": "light"
     },
     "output_type": "display_data"
    }
   ],
   "source": [
    "x = [0,1,2,3]\n",
    "y = custinfo.groupby('risk_rank').count()\n",
    "y.AGE\n",
    "plt.bar(x,y.AGE)\n",
    "plt.show"
   ]
  },
  {
   "cell_type": "code",
   "execution_count": null,
   "metadata": {},
   "outputs": [],
   "source": []
  },
  {
   "cell_type": "code",
   "execution_count": null,
   "metadata": {},
   "outputs": [],
   "source": []
  }
 ],
 "metadata": {
  "kernelspec": {
   "display_name": "Python 3",
   "language": "python",
   "name": "python3"
  },
  "language_info": {
   "codemirror_mode": {
    "name": "ipython",
    "version": 3
   },
   "file_extension": ".py",
   "mimetype": "text/x-python",
   "name": "python",
   "nbconvert_exporter": "python",
   "pygments_lexer": "ipython3",
   "version": "3.7.6"
  }
 },
 "nbformat": 4,
 "nbformat_minor": 5
}
